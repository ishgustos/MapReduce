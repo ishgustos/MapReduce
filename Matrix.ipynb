{
 "cells": [
  {
   "cell_type": "markdown",
   "metadata": {},
   "source": [
    "# Calcul du produit matriciel avec le schéma MapReduce"
   ]
  },
  {
   "cell_type": "code",
   "execution_count": 1,
   "metadata": {
    "collapsed": true
   },
   "outputs": [],
   "source": [
    "# -*- coding: utf-8 -*-\n",
    "\"\"\"\n",
    "Created on Sat Jan 21 16:29:28 2017\n",
    "\n",
    "@author: User\n",
    "\"\"\"\n",
    "\n",
    "\n",
    "import json\n",
    "import collections\n",
    "import itertools\n",
    "import numpy as np\n",
    "\n",
    "\n",
    "def readData(filename):\n",
    "    with open(filename, mode='r', encoding='utf-8') as file:\n",
    "        for line in file:\n",
    "            record = json.loads(line)\n",
    "            yield(record)\n",
    "\n",
    "#Etape 1: à partir du fichier avec les ['a',i,k,a(i,k)] et ['b',k,j,b(k,j)]\n",
    "#Faire une jointure pour faire les [i,k,j,'a',a(i,k),'b',b(k,j)]\n",
    "#Ensuite le calcul des sommes sur k des a(i,k)*b(k,j) sera fait en re-mappant et en re-reduisant\n",
    "\n",
    "#['a',i,k,a(i,k)] -> key = k , value = ['a',i,a(i,k)]\n",
    "#['b',k,j,b(k,j)] -> key = k , value = ['b',j,b(k,j)]            \n",
    "def mapper1(data):\n",
    "    #join operation : map1\n",
    "    \n",
    "    if data[0] == \"a\":\n",
    "        key = data[2]\n",
    "        value = [data[0],data[1],data[3]]\n",
    "        \n",
    "    if data[0] == \"b\":\n",
    "        key = data[1]\n",
    "        value = [data[0],data[2],data[3]]\n",
    "    return [(key,value)]\n",
    "\n",
    "#Rassembler les {k: ['a',i,a(i,k)],...,['b',j,b(k,j)]} \n",
    "def shuffle(data):\n",
    "    items = collections.defaultdict(list) #crée un dictionnaire vide dont les valeurs seront des listes\n",
    "        \n",
    "    for k,v in itertools.chain.from_iterable(data):     #itertools.chain.from_iterable() permet de fusionner des listes \n",
    "        items[k].append(v)\n",
    "            \n",
    "    return items.items()\n",
    "    \n",
    "def reducer1(data):\n",
    "    result = []\n",
    "    k = data[0]\n",
    "    A = []\n",
    "    B = []\n",
    "    for x in data[1]:\n",
    "        if x[0] == 'a':\n",
    "            A.append(x)\n",
    "        else:\n",
    "            B.append(x)\n",
    "    for x in A:\n",
    "        for y in B:\n",
    "            i = x[1]\n",
    "            j = y[1]\n",
    "            result.append([(i,k,j,x[0],x[2],y[0],y[2])])\n",
    "            \n",
    "    result = [z[0] for z in result]\n",
    "    \n",
    "    return result\n",
    "    \n",
    "\n",
    "def mapper2(data):\n",
    "    resultat = []\n",
    "    for x_data in data:\n",
    "        i = x_data[0]\n",
    "        j = x_data[2]\n",
    "        key = (x_data[3],x_data[5],i,j)\n",
    "        value = (x_data[4],x_data[6])\n",
    "        resultat.append([key,value])\n",
    "    \n",
    "    return resultat\n",
    "    \n",
    "    \n",
    "def reducer2(data):\n",
    "    key = data[0]\n",
    "    liste_values = data[1]\n",
    "    resultat = 0\n",
    "    for x in liste_values:\n",
    "        resultat += x[0]*x[1]\n",
    "    return (key,resultat)\n",
    "\n",
    "\n",
    "a = np.array ([[63, 45, 93, 32, 49],\n",
    "                   [33, 0, 0, 26, 95],\n",
    "                   [25, 11, 0, 60, 89],\n",
    "                   [24, 79, 24, 47, 18],\n",
    "                   [7, 98, 96, 27, 0]])\n",
    "\n",
    "b = np.array([[63, 18, 89, 28, 39],\n",
    "                  [59, 76, 34, 12, 6],\n",
    "                  [30, 52, 49, 3, 95],\n",
    "                  [77, 75, 85, 0, 0],\n",
    "                  [0, 46, 33, 69, 88]])\n",
    "\n",
    "\n",
    "mapped = map(mapper1,readData('matrix.json'))\n",
    "shuffled = shuffle(mapped)\n",
    "reduced = map(reducer1,shuffled)\n",
    "\n",
    "mapped2 = map(mapper2,reduced)\n",
    "shuffled2 = shuffle(mapped2)\n",
    "reduced2 = map(reducer2,shuffled2)\n",
    "\n",
    "list_prod = list(reduced2)\n",
    "list_prod.sort()"
   ]
  },
  {
   "cell_type": "code",
   "execution_count": 2,
   "metadata": {
    "collapsed": false
   },
   "outputs": [
    {
     "name": "stdout",
     "output_type": "stream",
     "text": [
      "[(('a', 'b', 0, 0), 11878), (('a', 'b', 0, 1), 14044), (('a', 'b', 0, 2), 16031), (('a', 'b', 0, 3), 5964), (('a', 'b', 0, 4), 15874), (('a', 'b', 1, 0), 4081), (('a', 'b', 1, 1), 6914), (('a', 'b', 1, 2), 8282), (('a', 'b', 1, 3), 7479), (('a', 'b', 1, 4), 9647), (('a', 'b', 2, 0), 6844), (('a', 'b', 2, 1), 9880), (('a', 'b', 2, 2), 10636), (('a', 'b', 2, 3), 6973), (('a', 'b', 2, 4), 8873), (('a', 'b', 3, 0), 10512), (('a', 'b', 3, 1), 12037), (('a', 'b', 3, 2), 10587), (('a', 'b', 3, 3), 2934), (('a', 'b', 3, 4), 5274), (('a', 'b', 4, 0), 11182), (('a', 'b', 4, 1), 14591), (('a', 'b', 4, 2), 10954), (('a', 'b', 4, 3), 1660), (('a', 'b', 4, 4), 9981)]\n"
     ]
    }
   ],
   "source": [
    "print(list_prod)"
   ]
  },
  {
   "cell_type": "code",
   "execution_count": 3,
   "metadata": {
    "collapsed": false
   },
   "outputs": [
    {
     "name": "stdout",
     "output_type": "stream",
     "text": [
      "[[11878 14044 16031  5964 15874]\n",
      " [ 4081  6914  8282  7479  9647]\n",
      " [ 6844  9880 10636  6973  8873]\n",
      " [10512 12037 10587  2934  5274]\n",
      " [11182 14591 10954  1660  9981]]\n"
     ]
    }
   ],
   "source": [
    "print(np.dot(a,b))"
   ]
  },
  {
   "cell_type": "code",
   "execution_count": null,
   "metadata": {
    "collapsed": true
   },
   "outputs": [],
   "source": []
  }
 ],
 "metadata": {
  "kernelspec": {
   "display_name": "Python 3",
   "language": "python",
   "name": "python3"
  },
  "language_info": {
   "codemirror_mode": {
    "name": "ipython",
    "version": 3
   },
   "file_extension": ".py",
   "mimetype": "text/x-python",
   "name": "python",
   "nbconvert_exporter": "python",
   "pygments_lexer": "ipython3",
   "version": "3.6.0"
  }
 },
 "nbformat": 4,
 "nbformat_minor": 2
}
